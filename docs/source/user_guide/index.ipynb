{
 "cells": [
  {
   "cell_type": "markdown",
   "id": "490a986c",
   "metadata": {},
   "source": [
    "# aeppl user guide\n",
    "\n",
    "Import aeppl"
   ]
  },
  {
   "cell_type": "code",
   "execution_count": 1,
   "id": "a5249e39",
   "metadata": {},
   "outputs": [],
   "source": [
    "from aeppl import joint_logprob, pprint"
   ]
  },
  {
   "cell_type": "code",
   "execution_count": null,
   "id": "8df9173d",
   "metadata": {},
   "outputs": [],
   "source": []
  }
 ],
 "metadata": {
  "kernelspec": {
   "display_name": "Python 3 (ipykernel)",
   "language": "python",
   "name": "python3"
  },
  "language_info": {
   "codemirror_mode": {
    "name": "ipython",
    "version": 3
   },
   "file_extension": ".py",
   "mimetype": "text/x-python",
   "name": "python",
   "nbconvert_exporter": "python",
   "pygments_lexer": "ipython3",
   "version": "3.9.7"
  }
 },
 "nbformat": 4,
 "nbformat_minor": 5
}
